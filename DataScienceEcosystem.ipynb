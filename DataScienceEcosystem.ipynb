{
 "cells": [
  {
   "cell_type": "markdown",
   "id": "6d1068b3-a7a9-4e58-bd46-7338228b034e",
   "metadata": {},
   "source": [
    "# Data Science Tools and Ecosystem"
   ]
  },
  {
   "cell_type": "markdown",
   "id": "b9ac38c7-f9cd-40f4-952d-af83152058e0",
   "metadata": {},
   "source": [
    "In this notebook, Data Science Tools and Ecosystem are summarized."
   ]
  },
  {
   "cell_type": "markdown",
   "id": "378beef4-7ac0-4d4e-ac36-bfbeca5f63b7",
   "metadata": {},
   "source": [
    "**Objectives:**"
   ]
  },
  {
   "cell_type": "markdown",
   "id": "90e86ad7-ad73-4ce0-b060-fa91eab85b6b",
   "metadata": {},
   "source": [
    "* List popular languages for Data Science\n",
    "* List commonly used libraries used by Data Scientists\n",
    "* Show the name of some open source data science tools"
   ]
  },
  {
   "cell_type": "markdown",
   "id": "90a9097f-d688-4c79-a1be-75dc1e234471",
   "metadata": {},
   "source": [
    "Some of the popular languages that Data Scientists use are:"
   ]
  },
  {
   "cell_type": "markdown",
   "id": "27028e1b-c64c-4cc6-b216-955ac6ae98a6",
   "metadata": {
    "tags": []
   },
   "source": [
    "1. Python\n",
    "2. R\n",
    "3. SQL"
   ]
  },
  {
   "cell_type": "markdown",
   "id": "65611915-bd76-4778-a8e9-3d603477925f",
   "metadata": {},
   "source": [
    "Some of the commonly used libraries used by Data Scientists include:"
   ]
  },
  {
   "cell_type": "markdown",
   "id": "050675ef-387b-4e3f-9587-064cbd237364",
   "metadata": {
    "tags": []
   },
   "source": [
    "1. Tensorflow\n",
    "2. Numpy\n",
    "3. Pandas"
   ]
  },
  {
   "cell_type": "markdown",
   "id": "8bd89327-1980-491b-a278-27cc4e41dbe4",
   "metadata": {},
   "source": [
    "|Data Science Tools|\n",
    "-----\n",
    "|RStudio|\n",
    "|Pycharm|\n",
    "|Scala IDE|"
   ]
  },
  {
   "cell_type": "markdown",
   "id": "29fd3257-f348-4f3a-ba3d-905837e768cc",
   "metadata": {},
   "source": [
    "### Below are a few examples of evaluating arithmetic expressions in Python"
   ]
  },
  {
   "cell_type": "markdown",
   "id": "f3f429d2-c069-4164-b015-8f913fd2d031",
   "metadata": {},
   "source": [
    "This a simple arithmetic expression to mutiply then add integers"
   ]
  },
  {
   "cell_type": "code",
   "execution_count": 7,
   "id": "0fa980e6-d613-4009-ac6e-8bb03b621bbf",
   "metadata": {
    "tags": []
   },
   "outputs": [
    {
     "data": {
      "text/plain": [
       "17"
      ]
     },
     "execution_count": 7,
     "metadata": {},
     "output_type": "execute_result"
    }
   ],
   "source": [
    "(3*4)+5"
   ]
  },
  {
   "cell_type": "markdown",
   "id": "b350f1ac-c117-4d52-99be-974430f566f1",
   "metadata": {},
   "source": [
    "This will convert 200 minutes to hours by diving by 60"
   ]
  },
  {
   "cell_type": "code",
   "execution_count": 8,
   "id": "c318d726-7835-4de4-ab57-4f5f7cd29067",
   "metadata": {
    "tags": []
   },
   "outputs": [
    {
     "data": {
      "text/plain": [
       "3.3333333333333335"
      ]
     },
     "execution_count": 8,
     "metadata": {},
     "output_type": "execute_result"
    }
   ],
   "source": [
    "200/60"
   ]
  },
  {
   "cell_type": "markdown",
   "id": "1bbaa38a-4e4b-466d-9008-76f569b6aa03",
   "metadata": {},
   "source": [
    "## Author"
   ]
  },
  {
   "cell_type": "markdown",
   "id": "96959727-60dc-42e1-8a17-51f8be3f592b",
   "metadata": {},
   "source": [
    "Barbara Deibys Troche Hernandez"
   ]
  },
  {
   "cell_type": "code",
   "execution_count": null,
   "id": "630c394e-bb96-4540-b8b4-024695d8cf73",
   "metadata": {},
   "outputs": [],
   "source": []
  }
 ],
 "metadata": {
  "kernelspec": {
   "display_name": "Python 3 (ipykernel)",
   "language": "python",
   "name": "python3"
  },
  "language_info": {
   "codemirror_mode": {
    "name": "ipython",
    "version": 3
   },
   "file_extension": ".py",
   "mimetype": "text/x-python",
   "name": "python",
   "nbconvert_exporter": "python",
   "pygments_lexer": "ipython3",
   "version": "3.11.5"
  }
 },
 "nbformat": 4,
 "nbformat_minor": 5
}
